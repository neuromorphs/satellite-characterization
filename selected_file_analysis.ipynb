{
 "cells": [
  {
   "cell_type": "code",
   "execution_count": 3,
   "metadata": {},
   "outputs": [],
   "source": [
    "from astrosite_dataset import AstrositeDataset\n",
    "\n",
    "dataset_path = 'data/astrosite/recordings'\n",
    "\n",
    "target_list = ['50574', '47851', '37951', '39533', '43751', '32711', '27831', '45465',\n",
    "       '46826', '42942', '42741', '41471', '43873', '40982', '41725', '43874',\n",
    "       '27711', '40892', '50005', '44637']\n",
    "\n",
    "dataset = AstrositeDataset(dataset_path, split=target_list)"
   ]
  },
  {
   "cell_type": "code",
   "execution_count": 6,
   "metadata": {},
   "outputs": [
    {
     "data": {
      "text/plain": [
       "717"
      ]
     },
     "execution_count": 6,
     "metadata": {},
     "output_type": "execute_result"
    }
   ],
   "source": [
    "len(dataset)"
   ]
  },
  {
   "cell_type": "code",
   "execution_count": 9,
   "metadata": {},
   "outputs": [
    {
     "name": "stdout",
     "output_type": "stream",
     "text": [
      "Skipping sample with labels [-2, -1, 0, 1, 2, 3, 4, 5, 6, 7, 8, 9, 10, 11, 12, 13, 14, 15, 16, 17, 18, 19, 20, 21, 22, 23, 24, 25, 26, 27, 28, 29, 30, 31, 32, 33, 34, 35, 36, 37, 38, 39, 40, 41, 42, 43, 44, 45, 46, 47, 48, 49, 50, 51, 52, 53, 54, 55, 56, 57, 58, 59, 60, 61, 62, 63, 64, 65, 66, 67, 68]\n",
      "Skipping sample with labels [-2, -1, 0, 1, 2, 3, 4, 5, 6, 7, 8, 9, 10, 11, 12, 13, 14, 15, 16, 17, 18, 19, 20, 21, 22, 23, 24, 25, 26, 27, 28, 29, 30, 31, 32, 33, 34, 35, 36, 37, 38, 39, 40, 41, 42, 43, 44, 45, 46, 47, 48, 49, 50, 51, 52, 53, 54, 55, 56, 57, 58, 59, 60, 61, 62, 63, 64, 65, 66, 67, 68, 69, 70, 71, 72, 73, 74, 75, 76]\n"
     ]
    }
   ],
   "source": [
    "from itertools import islice\n",
    "import event_stream\n",
    "import os\n",
    "\n",
    "results_folder = 'results/sat_events'\n",
    "if not os.path.exists(results_folder):\n",
    "    os.makedirs(results_folder)\n",
    "\n",
    "for i, sample in enumerate(islice(dataset, 50)):\n",
    "    labels = sorted(list(set(sample['labelled_events']['label'])))\n",
    "    if labels[0] < -1:\n",
    "        print(f\"Skipping sample with labels {labels}\")\n",
    "        continue\n",
    "    \n",
    "    events = sample['labelled_events']\n",
    "    sat_events = events[events['label'] == -1]\n",
    "    if len(sat_events) > 320:\n",
    "        # print(sample['target_id'])\n",
    "        event_stream.Encoder(f\"{results_folder}/{sample['target_id']}_{i}.es\", 'dvs', 1280, 720).write(sat_events)"
   ]
  },
  {
   "cell_type": "code",
   "execution_count": null,
   "metadata": {},
   "outputs": [],
   "source": []
  }
 ],
 "metadata": {
  "kernelspec": {
   "display_name": "base",
   "language": "python",
   "name": "python3"
  },
  "language_info": {
   "codemirror_mode": {
    "name": "ipython",
    "version": 3
   },
   "file_extension": ".py",
   "mimetype": "text/x-python",
   "name": "python",
   "nbconvert_exporter": "python",
   "pygments_lexer": "ipython3",
   "version": "3.12.2"
  }
 },
 "nbformat": 4,
 "nbformat_minor": 2
}
