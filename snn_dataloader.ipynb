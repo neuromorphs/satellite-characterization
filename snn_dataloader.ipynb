{
 "cells": [
  {
   "cell_type": "code",
   "execution_count": 1,
   "metadata": {},
   "outputs": [],
   "source": [
    "from astrosite_dataset import ClassificationAstrositeDataset, TrackingAstrositeDataset, MergedDataset\n",
    "\n",
    "dataset_path = '../dataset/recordings'\n",
    "\n",
    "target_list = ['50574', '47851', '37951', '39533', '43751', '32711', '27831', '45465',\n",
    "       '46826', '42942', '42741', '41471', '43873', '40982', '41725', '43874',\n",
    "       '27711', '40892', '50005', '44637']\n",
    "\n",
    "dataset1 = ClassificationAstrositeDataset(dataset_path, split=target_list)\n",
    "dataset2 = TrackingAstrositeDataset(dataset_path, split=target_list)\n",
    "assert len(dataset1) == len(dataset2)"
   ]
  },
  {
   "cell_type": "code",
   "execution_count": 2,
   "metadata": {},
   "outputs": [
    {
     "name": "stderr",
     "output_type": "stream",
     "text": [
      "/home/jules/miniconda3/envs/satellite/lib/python3.12/site-packages/tqdm/auto.py:21: TqdmWarning: IProgress not found. Please update jupyter and ipywidgets. See https://ipywidgets.readthedocs.io/en/stable/user_install.html\n",
      "  from .autonotebook import tqdm as notebook_tqdm\n"
     ]
    },
    {
     "name": "stdout",
     "output_type": "stream",
     "text": [
      "Metadata written to metadata/1/slice_metadata.h5.\n",
      "Metadata written to metadata/2/slice_metadata.h5.\n"
     ]
    }
   ],
   "source": [
    "from tonic.slicers import SliceByTime\n",
    "from tonic import SlicedDataset, transforms\n",
    "\n",
    "slicer = SliceByTime(time_window=1e6, include_incomplete=False)\n",
    "frame_transform = transforms.ToFrame(sensor_size=dataset1.sensor_size, time_window=1e5, include_incomplete=True)\n",
    "\n",
    "sliced_dataset1 = SlicedDataset(dataset1, slicer=slicer, metadata_path='metadata/1', transform=frame_transform)\n",
    "sliced_dataset2 = SlicedDataset(dataset2, slicer=slicer, metadata_path='metadata/2', transform=frame_transform)"
   ]
  },
  {
   "cell_type": "code",
   "execution_count": 6,
   "metadata": {},
   "outputs": [
    {
     "name": "stdout",
     "output_type": "stream",
     "text": [
      "283718\n",
      "1181\n",
      "497\n",
      "497\n",
      "15280\n",
      "15280\n"
     ]
    }
   ],
   "source": [
    "print(len(dataset1[0][0]))\n",
    "print(len(dataset2[0][0]))\n",
    "print(len(dataset1))\n",
    "print(len(dataset2))\n",
    "print(len(sliced_dataset1))\n",
    "print(len(sliced_dataset2))"
   ]
  },
  {
   "cell_type": "code",
   "execution_count": 5,
   "metadata": {},
   "outputs": [
    {
     "name": "stdout",
     "output_type": "stream",
     "text": [
      "497\n",
      "15280\n",
      "497\n",
      "15280\n",
      "(30098094, 369, 437, True)\n",
      "(30098094, 0, 0, True, 0)\n",
      "(10, 2, 720, 1280)\n",
      "(10, 2, 720, 1280)\n"
     ]
    }
   ],
   "source": [
    "for k in range(len(dataset2)):\n",
    "    try :\n",
    "        assert  (dataset1[k][0][-1][0]-dataset1[k][0][0][0]) == (dataset2[k][0][-1][0]-dataset2[k][0][0][0])\n",
    "    except AssertionError as e :\n",
    "        print(dataset1[k][0][-1][0]-dataset1[k][0][0][0])\n",
    "        print(dataset2[k][0][-1][0]-dataset2[k][0][0][0])\n",
    "        print(k)\n",
    "merged_dataset = MergedDataset(sliced_dataset1, sliced_dataset2)\n",
    "events, labelled_events, object_id = merged_dataset[0]\n",
    "print(events.shape)\n",
    "print(labelled_events.shape)"
   ]
  },
  {
   "cell_type": "code",
   "execution_count": null,
   "metadata": {},
   "outputs": [],
   "source": []
  }
 ],
 "metadata": {
  "kernelspec": {
   "display_name": "base",
   "language": "python",
   "name": "python3"
  },
  "language_info": {
   "codemirror_mode": {
    "name": "ipython",
    "version": 3
   },
   "file_extension": ".py",
   "mimetype": "text/x-python",
   "name": "python",
   "nbconvert_exporter": "python",
   "pygments_lexer": "ipython3",
   "version": "3.12.4"
  }
 },
 "nbformat": 4,
 "nbformat_minor": 2
}
