{
 "cells": [
  {
   "cell_type": "code",
   "execution_count": null,
   "metadata": {},
   "outputs": [],
   "source": [
    "from astrosite_dataset import AstrositeDataset\n",
    "\n",
    "# Point this to your local copy of the Astrosite dataset that's available on the NAS\n",
    "dataset_path = 'data/astrosite/recordings'\n",
    "dataset = AstrositeDataset(dataset_path)"
   ]
  },
  {
   "cell_type": "code",
   "execution_count": null,
   "metadata": {},
   "outputs": [],
   "source": [
    "from itertools import islice\n",
    "import pandas as pd\n",
    "from tqdm import tqdm\n",
    "\n",
    "# Initialize an empty list to collect the data\n",
    "data = []\n",
    "skipped_samples = 0\n",
    "\n",
    "# Iterate over the dataset and collect the statistics\n",
    "#for sample in islice(dataset, 500):\n",
    "for sample in tqdm(dataset):\n",
    "    labels = sorted(list(set(sample['labelled_events']['label'])))\n",
    "    if labels[0] < -1:\n",
    "        skipped_samples += 1\n",
    "        # print(f\"Skipping sample with labels {labels}\")\n",
    "        continue\n",
    "    row = {\n",
    "        'Events': sample['events'].shape[0],\n",
    "        'Events Labelled': sample['labelled_events'].shape[0],\n",
    "        # 'Events Labelled On/Off Ratio': sample['labelled_events']['on'].astype(float).mean(),\n",
    "        'Events Labelled Density': sample['labelled_events'].shape[0] / (sample['labelled_events']['t'][-1] - sample['labelled_events']['t'][0]) * 1e6,\n",
    "        'Label Ratios': sample['labelled_events'].shape[0] / sample['events'].shape[0],\n",
    "        'Duration (s)': (sample['events']['t'][-1] - sample['events']['t'][0]) / 1e6,\n",
    "        'Duration Labelled (s)': (sample['labelled_events']['t'][-1] - sample['labelled_events']['t'][0]) / 1e6,\n",
    "        'Target id': sample['target_id'],\n",
    "        'Labels': labels[-1],\n",
    "        'Intrinsic magnitude': sample['recording_data']['object']['intrinsic_magnitude'],\n",
    "        'Maximum magnitude': sample['recording_data']['object']['maximum_magnitude'],\n",
    "    }\n",
    "    data.append(row)\n",
    "\n",
    "df = pd.DataFrame(data)"
   ]
  },
  {
   "cell_type": "code",
   "execution_count": null,
   "metadata": {},
   "outputs": [],
   "source": [
    "import plotly.express as px\n",
    "from plotly.subplots import make_subplots\n",
    "import plotly.graph_objects as go\n",
    "import plotly.io as pio\n",
    "\n",
    "# Create subplots\n",
    "fig = make_subplots(\n",
    "    rows=2, cols=2,\n",
    "    subplot_titles=(\n",
    "        \"Histogram of Events Labelled\",\n",
    "        \"Durations vs Label Ratios\",\n",
    "        \"Intrinsic vs Max Magnitude\",\n",
    "        \"Number of samples per target IDs\"\n",
    "    )\n",
    ")\n",
    "\n",
    "# Add Histogram of Events Labelled\n",
    "fig.add_trace(\n",
    "    go.Histogram(x=df['Events Labelled'], name='Events Labelled'),\n",
    "    row=1, col=1\n",
    ")\n",
    "\n",
    "# Add Scatter plot of Durations vs Label Ratios\n",
    "fig.add_trace(\n",
    "    go.Scatter(x=df['Duration Labelled (s)'], y=df['Label Ratios'], mode='markers', name='Durations (s) vs Label Ratios'),\n",
    "    row=1, col=2\n",
    ")\n",
    "\n",
    "# Add Scatter plot of Event Labelled On/Off Ratio vs Maximum Magnitude\n",
    "fig.add_trace(\n",
    "    go.Scatter(x=df['Intrinsic magnitude'], y=df['Maximum magnitude'], mode='markers', name='Intrinsic vs Max Magnitude'),\n",
    "    row=2, col=1\n",
    ")\n",
    "\n",
    "# Assuming df['Target id'].value_counts().to_numpy() is stored in target_id_counts\n",
    "target_id_counts = df['Target id'].value_counts().to_numpy()\n",
    "target_id_labels = df['Target id'].value_counts().index.to_numpy()\n",
    "\n",
    "# Add Bar plot of Target IDs\n",
    "fig.add_trace(\n",
    "    go.Bar(x=target_id_labels, y=target_id_counts, name='Target IDs'),\n",
    "    row=2, col=2\n",
    ")\n",
    "\n",
    "# Update layout\n",
    "fig.update_layout(height=800, width=1200, title_text=\"Dataset Statistics\")\n",
    "\n",
    "fig.show()\n",
    "pio.write_image(fig, 'dataset_statistics.png')"
   ]
  },
  {
   "cell_type": "code",
   "execution_count": null,
   "metadata": {},
   "outputs": [],
   "source": []
  },
  {
   "cell_type": "code",
   "execution_count": null,
   "metadata": {},
   "outputs": [],
   "source": []
  }
 ],
 "metadata": {
  "kernelspec": {
   "display_name": "base",
   "language": "python",
   "name": "python3"
  },
  "language_info": {
   "codemirror_mode": {
    "name": "ipython",
    "version": 3
   },
   "file_extension": ".py",
   "mimetype": "text/x-python",
   "name": "python",
   "nbconvert_exporter": "python",
   "pygments_lexer": "ipython3",
   "version": "3.12.2"
  }
 },
 "nbformat": 4,
 "nbformat_minor": 2
}
