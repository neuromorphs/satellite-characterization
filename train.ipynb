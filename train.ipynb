{
 "cells": [
  {
   "cell_type": "code",
   "execution_count": 1,
   "metadata": {},
   "outputs": [
    {
     "name": "stderr",
     "output_type": "stream",
     "text": [
      "/home/jules/miniconda3/envs/satellite/lib/python3.12/site-packages/tqdm/auto.py:21: TqdmWarning: IProgress not found. Please update jupyter and ipywidgets. See https://ipywidgets.readthedocs.io/en/stable/user_install.html\n",
      "  from .autonotebook import tqdm as notebook_tqdm\n"
     ]
    }
   ],
   "source": [
    "import snntorch as snn\n",
    "from snntorch import spikeplot as splt\n",
    "from snntorch import spikegen\n",
    "from astrosite_dataset import AstrositeDataset\n",
    "from spinnaker_loader import EventsLoader\n",
    "\n",
    "import torch\n",
    "import torch.nn as nn\n",
    "from torch.utils.data import DataLoader\n",
    "\n",
    "import matplotlib.pyplot as plt\n",
    "import numpy as np\n",
    "import itertools"
   ]
  },
  {
   "cell_type": "code",
   "execution_count": 2,
   "metadata": {},
   "outputs": [
    {
     "name": "stdout",
     "output_type": "stream",
     "text": [
      "380\n"
     ]
    }
   ],
   "source": [
    "dataset_path = '../dataset/recordings'\n",
    "target_id = 37867\n",
    "dataset = AstrositeDataset(dataset_path, split=str(target_id))\n",
    "train_loader = EventsLoader(dataset, bins_per_sample=8, sample_time=1000000)\n",
    "print(len(train_loader))"
   ]
  },
  {
   "cell_type": "code",
   "execution_count": 3,
   "metadata": {},
   "outputs": [
    {
     "name": "stdout",
     "output_type": "stream",
     "text": [
      "4\n",
      "(4, 277969)\n"
     ]
    },
    {
     "ename": "TypeError",
     "evalue": "only integer scalar arrays can be converted to a scalar index",
     "output_type": "error",
     "traceback": [
      "\u001b[0;31m---------------------------------------------------------------------------\u001b[0m",
      "\u001b[0;31mTypeError\u001b[0m                                 Traceback (most recent call last)",
      "Cell \u001b[0;32mIn[3], line 1\u001b[0m\n\u001b[0;32m----> 1\u001b[0m test \u001b[39m=\u001b[39m train_loader[\u001b[39m300\u001b[39;49m]\n",
      "File \u001b[0;32m~/Documents/satellite-characterization/spinnaker_loader.py:49\u001b[0m, in \u001b[0;36mEventsLoader.__getitem__\u001b[0;34m(self, index)\u001b[0m\n\u001b[1;32m     47\u001b[0m \u001b[39mprint\u001b[39m(events_attributes\u001b[39m.\u001b[39mshape)\n\u001b[1;32m     48\u001b[0m events_attributes_ts \u001b[39m=\u001b[39m events_attributes[\u001b[39m0\u001b[39m]\n\u001b[0;32m---> 49\u001b[0m events_attributes \u001b[39m=\u001b[39m np\u001b[39m.\u001b[39;49mconcatenate(events_attributes[:\u001b[39m3\u001b[39;49m], events_attributes_ts)\n\u001b[1;32m     50\u001b[0m \u001b[39mprint\u001b[39m(events_attributes\u001b[39m.\u001b[39mshape)\n\u001b[1;32m     53\u001b[0m slicing_time_window \u001b[39m=\u001b[39m \u001b[39m50000\u001b[39m  \u001b[39m# microseconds\u001b[39;00m\n",
      "\u001b[0;31mTypeError\u001b[0m: only integer scalar arrays can be converted to a scalar index"
     ]
    }
   ],
   "source": [
    "test = train_loader[300]"
   ]
  },
  {
   "cell_type": "code",
   "execution_count": null,
   "metadata": {},
   "outputs": [],
   "source": [
    "def coordinate_loss(output, label) :\n",
    "    #(x,y) coordinates of the satellite, rate encoding or voltage values\n",
    "    return (output[0]-label[0])**2 + (output[1]-label[1])**2"
   ]
  }
 ],
 "metadata": {
  "kernelspec": {
   "display_name": "satellite",
   "language": "python",
   "name": "python3"
  },
  "language_info": {
   "codemirror_mode": {
    "name": "ipython",
    "version": 3
   },
   "file_extension": ".py",
   "mimetype": "text/x-python",
   "name": "python",
   "nbconvert_exporter": "python",
   "pygments_lexer": "ipython3",
   "version": "3.12.4"
  },
  "orig_nbformat": 4
 },
 "nbformat": 4,
 "nbformat_minor": 2
}
