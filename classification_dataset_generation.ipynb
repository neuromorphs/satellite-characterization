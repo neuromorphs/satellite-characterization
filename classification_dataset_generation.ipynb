{
 "cells": [
  {
   "cell_type": "code",
   "execution_count": 29,
   "metadata": {},
   "outputs": [
    {
     "data": {
      "text/plain": [
       "169"
      ]
     },
     "execution_count": 29,
     "metadata": {},
     "output_type": "execute_result"
    }
   ],
   "source": [
    "from astrosite_dataset import LabelledEventsAstrositeDataset\n",
    "\n",
    "dataset_path = \"data/astrosite/recordings\"\n",
    "\n",
    "# dataset = LabelledEventsAstrositeDataset(dataset_path, split=\"all\")\n",
    "dataset = LabelledEventsAstrositeDataset(dataset_path, split=[\"39483\", \"39485\", \"39624\", \"40921\", \"43751\", \"43752\", \"50574\", \"51102\"])\n",
    "len(dataset)"
   ]
  },
  {
   "cell_type": "markdown",
   "metadata": {},
   "source": [
    "## Calculate spectrograms from 30s recordings"
   ]
  },
  {
   "cell_type": "code",
   "execution_count": 34,
   "metadata": {},
   "outputs": [
    {
     "name": "stderr",
     "output_type": "stream",
     "text": [
      "  0%|          | 0/169 [00:00<?, ?it/s]"
     ]
    },
    {
     "name": "stderr",
     "output_type": "stream",
     "text": [
      "100%|██████████| 169/169 [01:31<00:00,  1.84it/s]"
     ]
    },
    {
     "name": "stdout",
     "output_type": "stream",
     "text": [
      "defaultdict(<class 'int'>, {'43752': 17, '50574': 31, '39483': 18, '40921': 20, '43751': 24, '51102': 20, '39485': 20, '39624': 16})\n"
     ]
    },
    {
     "name": "stderr",
     "output_type": "stream",
     "text": [
      "\n"
     ]
    }
   ],
   "source": [
    "import numpy as np\n",
    "from scipy.signal import spectrogram\n",
    "import matplotlib.pyplot as plt\n",
    "from collections import defaultdict\n",
    "from pathlib import Path\n",
    "from tqdm import tqdm\n",
    "\n",
    "sample_counts = defaultdict(int)\n",
    "save_to_folder = \"data/astrosite/spectrograms\"\n",
    "\n",
    "n_chunks = 40  # Number of chunks to split each sample into\n",
    "chunk_size = 30000 // n_chunks  # Size of each chunk in samples\n",
    "\n",
    "for sample in tqdm(dataset):\n",
    "    events, target_id = sample\n",
    "    # check for ambiguous satellite\n",
    "    labels = sorted(list(set(events[\"label\"])))\n",
    "    if labels[0] < -1:\n",
    "        # print(f\"Skipping sample with labels {labels}\")\n",
    "        continue\n",
    "    array = np.zeros(30000)\n",
    "    events = events[events[\"label\"] == -1]\n",
    "    events = events[events[\"t\"] < 3e7]\n",
    "    if len(events) < 1000:\n",
    "        continue\n",
    "    event_indices = (events[\"t\"] // 1e3).astype(np.int64)\n",
    "    np.add.at(array, event_indices, 1)\n",
    "    nperseg = 10\n",
    "\n",
    "    for i in range(n_chunks):\n",
    "        start = i * chunk_size\n",
    "        end = (i + 1) * chunk_size\n",
    "        chunk_array = array[start:end]\n",
    "        \n",
    "        frequencies, times, Sxx = spectrogram(\n",
    "            chunk_array, fs=1, nperseg=nperseg, noverlap=nperseg // 2\n",
    "        )\n",
    "\n",
    "        # Set the figure size dynamically based on the number of frequency bands\n",
    "        fig_height = len(frequencies) / 20  # Adjust the divisor to control height scaling\n",
    "        plt.figure(figsize=(2, fig_height))\n",
    "\n",
    "        plt.pcolormesh(times, frequencies, 10 * np.log10(Sxx + 1e-6), shading=\"auto\")\n",
    "        plt.axis(\"off\")\n",
    "\n",
    "        file_path = Path(f\"{save_to_folder}/{target_id}/{sample_counts[target_id]}_chunk_{i}.png\")\n",
    "        file_path.parent.mkdir(parents=True, exist_ok=True)\n",
    "        plt.savefig(file_path, bbox_inches=\"tight\", pad_inches=0)\n",
    "        plt.close()  # Close the figure to free memory\n",
    "\n",
    "    sample_counts[target_id] += 1\n",
    "\n",
    "print(sample_counts)\n"
   ]
  },
  {
   "cell_type": "code",
   "execution_count": null,
   "metadata": {},
   "outputs": [],
   "source": []
  },
  {
   "cell_type": "code",
   "execution_count": null,
   "metadata": {},
   "outputs": [
    {
     "name": "stdout",
     "output_type": "stream",
     "text": [
      "Folders deleted.\n"
     ]
    }
   ],
   "source": [
    "import shutil\n",
    "from pathlib import Path\n",
    "\n",
    "save_to_folder = \"data/astrosite/spectrograms\"\n",
    "min_samples = 120  # Set your minimum number of samples here\n",
    "\n",
    "for target_id, count in sample_counts.items():\n",
    "    if count < min_samples:\n",
    "        folder_path = Path(f\"{save_to_folder}/{target_id}\")\n",
    "        if folder_path.exists() and folder_path.is_dir():\n",
    "            shutil.rmtree(folder_path)\n",
    "\n",
    "print(\"Folders deleted.\")"
   ]
  },
  {
   "cell_type": "markdown",
   "metadata": {},
   "source": [
    "## Calculate time surfaces of 3s slices of the recordings"
   ]
  },
  {
   "cell_type": "code",
   "execution_count": 35,
   "metadata": {},
   "outputs": [
    {
     "name": "stderr",
     "output_type": "stream",
     "text": [
      "100%|██████████| 6987/6987 [17:39<00:00,  6.59it/s]"
     ]
    },
    {
     "name": "stdout",
     "output_type": "stream",
     "text": [
      "defaultdict(<class 'int'>, {'40697': 156, '39762': 196, '39358': 122, '43567': 46, '37765': 176, '43437': 258, '44076': 9, '49505': 183, '54377': 108, '53526': 76, '39059': 248, '37834': 216, '39455': 116, '47719': 89, '37846': 36, '40982': 190, '52909': 133, '52984': 28, '54700': 166, '43920': 64, '47510': 24, '43752': 355, '40555': 62, '56371': 18, '39490': 102, '43753': 245, '38733': 118, '23467': 37, '44552': 188, '37168': 66, '50574': 346, '52944': 15, '31800': 90, '39206': 244, '43618': 113, '41471': 101, '40892': 254, '26356': 18, '44850': 63, '47321': 209, '54214': 288, '44637': 250, '38356': 63, '50002': 34, '40922': 223, '54230': 243, '46497': 58, '55912': 138, '43657': 193, '53948': 90, '53946': 43, '37152': 184, '46805': 157, '42969': 178, '53950': 86, '50005': 200, '40261': 102, '54223': 88, '32393': 36, '37753': 18, '40286': 216, '41579': 110, '53761': 110, '41549': 114, '39761': 233, '33331': 73, '43058': 54, '42741': 181, '42063': 251, '45611': 18, '48914': 105, '44299': 100, '55131': 127, '28628': 229, '46826': 182, '41725': 253, '41335': 252, '53320': 24, '39483': 379, '54372': 141, '40699': 178, '49503': 162, '38070': 27, '41918': 46, '56761': 17, '52908': 72, '35500': 48, '45608': 124, '40921': 380, '39057': 207, '26038': 253, '27704': 28, '44067': 100, '41869': 111, '49260': 155, '27718': 109, '46916': 211, '49060': 92, '39070': 82, '51511': 225, '47230': 34, '39017': 9, '54699': 228, '32252': 154, '25501': 27, '48274': 33, '47546': 258, '32954': 169, '49809': 46, '39491': 107, '41032': 104, '40534': 74, '28158': 18, '23132': 20, '40920': 140, '39155': 45, '43873': 90, '54374': 113, '35498': 112, '40887': 55, '56874': 100, '28089': 118, '37737': 27, '49059': 67, '37154': 200, '43057': 54, '44389': 77, '23754': 10, '39484': 234, '32956': 112, '55243': 58, '44390': 97, '49391': 55, '41394': 200, '40420': 198, '43751': 462, '53611': 46, '45915': 124, '52202': 156, '52758': 42, '33051': 101, '40890': 36, '54381': 189, '40345': 36, '53355': 83, '36095': 210, '51102': 389, '42939': 81, '42719': 22, '43619': 111, '8621': 68, '42942': 167, '48916': 100, '45465': 227, '27663': 9, '51847': 87, '39485': 361, '29495': 173, '43032': 98, '27831': 109, '43339': 18, '52145': 46, '52255': 127, '56759': 149, '54746': 57, '44453': 89, '55062': 8, '39019': 74, '38012': 49, '45251': 48, '27711': 255, '44422': 116, '53318': 16, '37951': 99, '53813': 110, '43055': 27, '48157': 80, '38861': 61, '53885': 43, '43874': 54, '7373': 29, '40001': 82, '39763': 168, '39177': 82, '57045': 73, '49070': 89, '45612': 63, '41021': 100, '43611': 155, '40358': 201, '40141': 45, '54878': 82, '40101': 18, '54376': 47, '39624': 331, '55683': 91, '26575': 73, '54031': 18, '53522': 34, '28129': 54, '43565': 17, '48917': 184, '53763': 75, '39634': 16, '37869': 28, '41634': 167, '44517': 56, '51075': 52, '52907': 40, '28924': 127, '29486': 37, '36358': 72, '49125': 118, '54817': 30, '37867': 27, '41860': 27, '47851': 73, '44421': 192, '48865': 17, '49141': 24, '32955': 122, '53760': 57, '55268': 84, '24819': 18, '54042': 63, '33433': 6, '49433': 31, '49258': 17, '45358': 54, '24876': 9, '37847': 19, '47613': 109, '41882': 18, '44506': 19, '49501': 16, '47506': 85, '39620': 36, '26052': 19, '32275': 36, '44323': 17, '37730': 52, '43519': 27, '53943': 31, '53586': 47, '41550': 82, '53807': 106, '49961': 36, '40105': 36, '54043': 47, '40294': 81, '28899': 99, '40746': 100, '43508': 54, '32060': 83, '30794': 65, '37234': 9, '55049': 36, '49810': 27, '37868': 54, '52759': 35, '23589': 9, '38098': 9, '45254': 26, '43800': 57, '49390': 31, '49448': 27, '55242': 12, '37804': 45, '29079': 34, '53947': 48, '53524': 96, '35946': 117, '53316': 16, '43687': 72, '6192': 22, '51280': 9, '36111': 28, '44424': 12, '38978': 17, '41175': 9, '49818': 9, '42986': 124, '39210': 68, '28474': 9, '39727': 38, '40882': 9, '54750': 49, '41121': 9, '48268': 33, '43162': 45, '40115': 81, '43564': 45, '26388': 38, '21639': 18, '54383': 1, '51954': 34, '43491': 9, '48482': 17, '56372': 8, '54752': 49, '32276': 36, '41330': 19, '32711': 36, '41859': 10, '40146': 27, '28190': 9, '51281': 18, '56740': 37, '36088': 32, '44978': 27, '23967': 9, '47967': 16, '49393': 35, '40315': 28, '32260': 1, '41099': 29, '41838': 18, '45859': 40, '35756': 9, '38011': 23, '47973': 17, '24315': 9, '56754': 28, '49113': 51, '39209': 13, '27566': 27, '52755': 41, '39166': 1, '54045': 51, '41862': 9, '56753': 29, '39157': 27, '48918': 46, '43488': 9, '22563': 10, '53949': 16, '48941': 17, '39208': 6, '40544': 18, '43056': 1, '37237': 9, '53876': 16, '39256': 9, '52749': 16, '54748': 30, '45250': 16, '29155': 9, '43711': 23, '40129': 16, '45985': 9})\n"
     ]
    },
    {
     "name": "stderr",
     "output_type": "stream",
     "text": [
      "\n"
     ]
    }
   ],
   "source": [
    "import matplotlib.pyplot as plt\n",
    "from collections import defaultdict\n",
    "from pathlib import Path\n",
    "from tqdm import tqdm\n",
    "from tonic import transforms\n",
    "from itertools import islice\n",
    "\n",
    "\n",
    "sample_counts = defaultdict(int)\n",
    "save_to_folder = \"data/astrosite/surfaces\"\n",
    "\n",
    "frame_time = 3e6\n",
    "surface_decay = 2e6\n",
    "surface_transform = transforms.ToTimesurface(\n",
    "    sensor_size=dataset.sensor_size, dt=frame_time, tau=surface_decay\n",
    ")\n",
    "\n",
    "# for sample in tqdm(islice(dataset, 20)):\n",
    "for sample in tqdm(dataset):\n",
    "    events, target_id = sample\n",
    "    # check for ambiguous satellite\n",
    "    labels = sorted(list(set(events[\"label\"])))\n",
    "    if labels[0] < -1:\n",
    "        continue\n",
    "    events = events[events[\"label\"] == -1]\n",
    "    if len(events) < 2500:\n",
    "        continue\n",
    "    surfaces = surface_transform(events)\n",
    "\n",
    "    for i, surface in enumerate(surfaces):\n",
    "        file_path = Path(f\"{save_to_folder}/{target_id}/{sample_counts[target_id]}.png\")\n",
    "        file_path.parent.mkdir(parents=True, exist_ok=True)\n",
    "        plt.imsave(file_path, surface.sum(0), cmap=\"gray\")\n",
    "        sample_counts[target_id] += 1\n",
    "\n",
    "print(sample_counts)"
   ]
  },
  {
   "cell_type": "code",
   "execution_count": 43,
   "metadata": {},
   "outputs": [
    {
     "name": "stdout",
     "output_type": "stream",
     "text": [
      "Folders deleted.\n"
     ]
    }
   ],
   "source": [
    "import shutil\n",
    "from pathlib import Path\n",
    "\n",
    "save_to_folder = \"data/astrosite/surfaces\"\n",
    "min_samples = 300  # Set your minimum number of samples here\n",
    "\n",
    "for target_id, count in sample_counts.items():\n",
    "    if count < min_samples:\n",
    "        folder_path = Path(f\"{save_to_folder}/{target_id}\")\n",
    "        if folder_path.exists() and folder_path.is_dir():\n",
    "            shutil.rmtree(folder_path)\n",
    "\n",
    "print(\"Folders deleted.\")"
   ]
  }
 ],
 "metadata": {
  "kernelspec": {
   "display_name": "base",
   "language": "python",
   "name": "python3"
  },
  "language_info": {
   "codemirror_mode": {
    "name": "ipython",
    "version": 3
   },
   "file_extension": ".py",
   "mimetype": "text/x-python",
   "name": "python",
   "nbconvert_exporter": "python",
   "pygments_lexer": "ipython3",
   "version": "3.12.2"
  }
 },
 "nbformat": 4,
 "nbformat_minor": 2
}
