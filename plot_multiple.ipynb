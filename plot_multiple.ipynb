{
 "cells": [
  {
   "cell_type": "code",
   "execution_count": 32,
   "metadata": {},
   "outputs": [],
   "source": [
    "from astrosite_dataset import AstrositeDataset\n",
    "\n",
    "dataset_path = 'data/astrosite/recordings'\n",
    "dataset = AstrositeDataset(dataset_path, split='37867')"
   ]
  },
  {
   "cell_type": "code",
   "execution_count": 4,
   "metadata": {},
   "outputs": [],
   "source": [
    "from itertools import islice\n",
    "\n",
    "n_samples = 9\n",
    "samples = [sample['labelled_events'] for sample in islice(dataset, n_samples)]"
   ]
  },
  {
   "cell_type": "code",
   "execution_count": 33,
   "metadata": {},
   "outputs": [
    {
     "name": "stdout",
     "output_type": "stream",
     "text": [
      "Skipping sample with labels [-2, -1, 0, 1, 2, 3, 4, 5, 6, 7, 8, 9, 10, 11, 12, 13, 14, 15, 16, 17, 18, 19, 20, 21, 22, 23, 24, 25, 26, 27, 28, 29, 30, 31, 32, 33, 34, 35, 36, 37, 38]\n"
     ]
    }
   ],
   "source": [
    "samples = []\n",
    "n_samples = 9\n",
    "\n",
    "for sample in dataset:\n",
    "    labels = sorted(list(set(sample['labelled_events']['label'])))\n",
    "    if labels[0] < -1:\n",
    "        print(f\"Skipping sample with labels {labels}\")\n",
    "        continue\n",
    "    \n",
    "    events = sample['labelled_events']\n",
    "    sat_events = events[events['label'] == -1]\n",
    "    samples.append(sat_events)\n",
    "    if len(samples) >= n_samples:\n",
    "        break"
   ]
  },
  {
   "cell_type": "code",
   "execution_count": 34,
   "metadata": {},
   "outputs": [],
   "source": [
    "import numpy as np\n",
    "\n",
    "side_length = np.sqrt(n_samples).astype(int)\n",
    "max_x = 1280\n",
    "max_y = 720\n",
    "\n",
    "for i in range(side_length):\n",
    "    for j in range(side_length):\n",
    "        index = i*side_length+j\n",
    "        x_shift = max_x*j\n",
    "        y_shift = max_y*i\n",
    "        samples[index]['x'] += x_shift\n",
    "        samples[index]['y'] += y_shift\n",
    "\n",
    "merged_events = np.concatenate(samples)\n",
    "merged_events = np.sort(merged_events, order='t')"
   ]
  },
  {
   "cell_type": "code",
   "execution_count": 35,
   "metadata": {},
   "outputs": [],
   "source": [
    "import event_stream\n",
    "\n",
    "encoder = event_stream.Encoder('merged_events.es', 'dvs', 1280*side_length, 720*side_length)"
   ]
  },
  {
   "cell_type": "code",
   "execution_count": 36,
   "metadata": {},
   "outputs": [],
   "source": [
    "encoder.write(merged_events)"
   ]
  },
  {
   "cell_type": "code",
   "execution_count": null,
   "metadata": {},
   "outputs": [],
   "source": []
  }
 ],
 "metadata": {
  "kernelspec": {
   "display_name": "base",
   "language": "python",
   "name": "python3"
  },
  "language_info": {
   "codemirror_mode": {
    "name": "ipython",
    "version": 3
   },
   "file_extension": ".py",
   "mimetype": "text/x-python",
   "name": "python",
   "nbconvert_exporter": "python",
   "pygments_lexer": "ipython3",
   "version": "3.12.2"
  }
 },
 "nbformat": 4,
 "nbformat_minor": 2
}
