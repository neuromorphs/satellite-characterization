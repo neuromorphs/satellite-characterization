{
 "cells": [
  {
   "cell_type": "code",
   "execution_count": 1,
   "metadata": {},
   "outputs": [],
   "source": [
    "from astrosite_dataset import AstrositeDataset\n",
    "\n",
    "dataset_path = '../dataset/recordings'\n",
    "target_id = 37867\n",
    "dataset = AstrositeDataset(dataset_path, split=str(target_id))"
   ]
  },
  {
   "cell_type": "code",
   "execution_count": 2,
   "metadata": {},
   "outputs": [
    {
     "name": "stdout",
     "output_type": "stream",
     "text": [
      "[(  0,  175, 174,  True) (456,  895, 275, False) (568, 1145, 413, False)\n",
      " (596, 1093, 246, False) (644,  462, 284,  True)]\n",
      "[(  0, 175, 174,  True,  0) (728, 177, 173,  True, 26)\n",
      " (775, 177, 171,  True, 25) (793, 184, 172,  True,  0)\n",
      " (950, 427, 467,  True,  0)]\n"
     ]
    }
   ],
   "source": [
    "print(dataset[0]['events'][:5])\n",
    "print(dataset[0]['labelled_events'][:5])"
   ]
  },
  {
   "cell_type": "code",
   "execution_count": 3,
   "metadata": {},
   "outputs": [],
   "source": [
    "from spinnaker_loader import EventsLoader\n",
    "\n",
    "train_loader = EventsLoader(dataset, bins_per_sample=8, sample_time=1000000)"
   ]
  },
  {
   "cell_type": "markdown",
   "metadata": {},
   "source": [
    "Collect 9 samples that have only 1 satellite label, and only retain the events that are labelled as that satellite."
   ]
  },
  {
   "cell_type": "code",
   "execution_count": 17,
   "metadata": {},
   "outputs": [
    {
     "name": "stdout",
     "output_type": "stream",
     "text": [
      "Skipping sample with labels [-2, -1, 0, 1, 2, 3, 4, 5, 6, 7, 8, 9, 10, 11, 12, 13, 14, 15, 16, 17, 18, 19, 20, 21, 22, 23, 24, 25, 26, 27, 28, 29, 30, 31, 32, 33, 34, 35, 36, 37, 38]\n",
      "Skipping sample with labels [-2, -1, 0, 1, 2, 3, 4, 5, 6, 7, 8, 9, 10, 11, 12, 13, 14]\n"
     ]
    }
   ],
   "source": [
    "samples = []\n",
    "n_samples = 9\n",
    "\n",
    "for sample in dataset:\n",
    "    labels = sorted(list(set(sample['labelled_events']['label'])))\n",
    "    if labels[0] < -1:\n",
    "        print(f\"Skipping sample with labels {labels}\")\n",
    "        continue\n",
    "    \n",
    "    events = sample['labelled_events']\n",
    "    sat_events = events[events['label'] == -1]\n",
    "    if len(sat_events) > 320:\n",
    "        samples.append(sat_events)\n",
    "    if len(samples) >= n_samples:\n",
    "        break"
   ]
  },
  {
   "cell_type": "code",
   "execution_count": 19,
   "metadata": {},
   "outputs": [
    {
     "data": {
      "text/plain": [
       "9"
      ]
     },
     "execution_count": 19,
     "metadata": {},
     "output_type": "execute_result"
    }
   ],
   "source": [
    "len(samples)\n"
   ]
  },
  {
   "cell_type": "code",
   "execution_count": 20,
   "metadata": {},
   "outputs": [],
   "source": [
    "import numpy as np\n",
    "\n",
    "side_length = np.sqrt(n_samples).astype(int)\n",
    "max_x = 1280\n",
    "max_y = 720\n",
    "\n",
    "for i in range(side_length):\n",
    "    for j in range(side_length):\n",
    "        index = i*side_length+j\n",
    "        x_shift = max_x*j\n",
    "        y_shift = max_y*i\n",
    "        samples[index]['x'] += x_shift\n",
    "        samples[index]['y'] += y_shift\n",
    "\n",
    "merged_events = np.concatenate(samples)\n",
    "merged_events = np.sort(merged_events, order='t')"
   ]
  },
  {
   "cell_type": "code",
   "execution_count": 21,
   "metadata": {},
   "outputs": [],
   "source": [
    "import event_stream\n",
    "\n",
    "encoder = event_stream.Encoder('merged_events.es', 'dvs', 1280*side_length, 720*side_length)"
   ]
  },
  {
   "cell_type": "code",
   "execution_count": 22,
   "metadata": {},
   "outputs": [],
   "source": [
    "encoder.write(merged_events)"
   ]
  },
  {
   "cell_type": "code",
   "execution_count": null,
   "metadata": {},
   "outputs": [],
   "source": []
  },
  {
   "cell_type": "code",
   "execution_count": 23,
   "metadata": {},
   "outputs": [
    {
     "name": "stdout",
     "output_type": "stream",
     "text": [
      "Skipping sample with labels [-2, -1, 0, 1, 2, 3, 4, 5, 6, 7, 8, 9, 10, 11, 12, 13, 14, 15, 16, 17, 18, 19, 20, 21, 22, 23, 24, 25, 26, 27, 28, 29, 30, 31, 32, 33, 34, 35, 36, 37, 38]\n",
      "Skipping sample with labels [-2, -1, 0, 1, 2, 3, 4, 5, 6, 7, 8, 9, 10, 11, 12, 13, 14]\n"
     ]
    }
   ],
   "source": [
    "target_sat_events = []\n",
    "\n",
    "for sample in dataset:\n",
    "    labels = sorted(list(set(sample['labelled_events']['label'])))\n",
    "    if labels[0] < -1:\n",
    "        print(f\"Skipping sample with labels {labels}\")\n",
    "        continue\n",
    "    \n",
    "    events = sample['labelled_events']\n",
    "    sat_events = events[events['label'] == -1]\n",
    "    if len(sat_events) > 320:\n",
    "        target_sat_events.append(sat_events)"
   ]
  },
  {
   "cell_type": "code",
   "execution_count": 24,
   "metadata": {},
   "outputs": [
    {
     "data": {
      "text/plain": [
       "9"
      ]
     },
     "execution_count": 24,
     "metadata": {},
     "output_type": "execute_result"
    }
   ],
   "source": [
    "len(target_sat_events)"
   ]
  }
 ],
 "metadata": {
  "kernelspec": {
   "display_name": "base",
   "language": "python",
   "name": "python3"
  },
  "language_info": {
   "codemirror_mode": {
    "name": "ipython",
    "version": 3
   },
   "file_extension": ".py",
   "mimetype": "text/x-python",
   "name": "python",
   "nbconvert_exporter": "python",
   "pygments_lexer": "ipython3",
   "version": "3.12.4"
  }
 },
 "nbformat": 4,
 "nbformat_minor": 2
}
