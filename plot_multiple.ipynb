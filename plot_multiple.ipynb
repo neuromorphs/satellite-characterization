{
 "cells": [
  {
   "cell_type": "code",
   "execution_count": 3,
   "metadata": {},
   "outputs": [
    {
     "data": {
      "text/plain": [
       "39"
      ]
     },
     "execution_count": 3,
     "metadata": {},
     "output_type": "execute_result"
    }
   ],
   "source": [
    "from astrosite_dataset import AstrositeDataset\n",
    "\n",
    "dataset_path = 'data/astrosite/recordings'\n",
    "target_id = 50574\n",
    "dataset = AstrositeDataset(dataset_path, split=str(target_id))\n",
    "len(dataset)"
   ]
  },
  {
   "cell_type": "markdown",
   "metadata": {},
   "source": [
    "Collect 9 samples that have only 1 satellite label, and only retain the events that are labelled as that satellite."
   ]
  },
  {
   "cell_type": "code",
   "execution_count": 4,
   "metadata": {},
   "outputs": [],
   "source": [
    "orig_samples = []\n",
    "sat_samples = []\n",
    "n_samples = 9\n",
    "\n",
    "for sample in dataset:\n",
    "    labels = sorted(list(set(sample['labelled_events']['label'])))\n",
    "    if labels[0] < -1:\n",
    "        print(f\"Skipping sample with labels {labels}\")\n",
    "        continue\n",
    "    events = sample['events']\n",
    "    orig_samples.append(events)\n",
    "    sat_events = sample['labelled_events']\n",
    "    sat_events = sat_events[sat_events['label'] == -1]\n",
    "    sat_samples.append(sat_events)\n",
    "    if len(sat_samples) >= n_samples:\n",
    "        break"
   ]
  },
  {
   "cell_type": "code",
   "execution_count": 5,
   "metadata": {},
   "outputs": [
    {
     "data": {
      "text/plain": [
       "9"
      ]
     },
     "execution_count": 5,
     "metadata": {},
     "output_type": "execute_result"
    }
   ],
   "source": [
    "len(sat_samples)"
   ]
  },
  {
   "cell_type": "code",
   "execution_count": 6,
   "metadata": {},
   "outputs": [],
   "source": [
    "import numpy as np\n",
    "\n",
    "side_length = np.sqrt(n_samples).astype(int)\n",
    "max_x = 1280\n",
    "max_y = 720\n",
    "\n",
    "for i in range(side_length):\n",
    "    for j in range(side_length):\n",
    "        index = i*side_length+j\n",
    "        x_shift = max_x*j\n",
    "        y_shift = max_y*i\n",
    "        sat_samples[index]['x'] += x_shift\n",
    "        sat_samples[index]['y'] += y_shift\n",
    "        orig_samples[index]['x'] += x_shift\n",
    "        orig_samples[index]['y'] += y_shift\n",
    "\n",
    "merged_sat_events = np.concatenate(sat_samples)\n",
    "merged_sat_events = np.sort(merged_sat_events, order='t')\n",
    "merged_orig_events = np.concatenate(orig_samples)\n",
    "merged_orig_events = np.sort(merged_orig_events, order='t')"
   ]
  },
  {
   "cell_type": "code",
   "execution_count": 7,
   "metadata": {},
   "outputs": [],
   "source": [
    "import event_stream\n",
    "\n",
    "event_stream.Encoder('merged_sat_events.es', 'dvs', 1280*side_length, 720*side_length).write(merged_sat_events)\n",
    "event_stream.Encoder('merged_orig_events.es', 'dvs', 1280*side_length, 720*side_length).write(merged_orig_events)"
   ]
  },
  {
   "cell_type": "code",
   "execution_count": 23,
   "metadata": {},
   "outputs": [
    {
     "name": "stdout",
     "output_type": "stream",
     "text": [
      "Skipping sample with labels [-2, -1, 0, 1, 2, 3, 4, 5, 6, 7, 8, 9, 10, 11, 12, 13, 14, 15, 16, 17, 18, 19, 20, 21, 22, 23, 24, 25, 26, 27, 28, 29, 30, 31, 32, 33, 34, 35, 36, 37, 38]\n",
      "Skipping sample with labels [-2, -1, 0, 1, 2, 3, 4, 5, 6, 7, 8, 9, 10, 11, 12, 13, 14]\n"
     ]
    }
   ],
   "source": [
    "target_sat_events = []\n",
    "\n",
    "for sample in dataset:\n",
    "    labels = sorted(list(set(sample['labelled_events']['label'])))\n",
    "    if labels[0] < -1:\n",
    "        print(f\"Skipping sample with labels {labels}\")\n",
    "        continue\n",
    "    \n",
    "    events = sample['labelled_events']\n",
    "    sat_events = events[events['label'] == -1]\n",
    "    if len(sat_events) > 320:\n",
    "        target_sat_events.append(sat_events)"
   ]
  },
  {
   "cell_type": "code",
   "execution_count": 24,
   "metadata": {},
   "outputs": [
    {
     "data": {
      "text/plain": [
       "9"
      ]
     },
     "execution_count": 24,
     "metadata": {},
     "output_type": "execute_result"
    }
   ],
   "source": [
    "len(target_sat_events)"
   ]
  }
 ],
 "metadata": {
  "kernelspec": {
   "display_name": "base",
   "language": "python",
   "name": "python3"
  },
  "language_info": {
   "codemirror_mode": {
    "name": "ipython",
    "version": 3
   },
   "file_extension": ".py",
   "mimetype": "text/x-python",
   "name": "python",
   "nbconvert_exporter": "python",
   "pygments_lexer": "ipython3",
   "version": "3.12.2"
  }
 },
 "nbformat": 4,
 "nbformat_minor": 2
}
